{
  "nbformat": 4,
  "nbformat_minor": 0,
  "metadata": {
    "colab": {
      "provenance": [],
      "authorship_tag": "ABX9TyOdSrehtCC4LmCL1f8kZP3S",
      "include_colab_link": true
    },
    "kernelspec": {
      "name": "python3",
      "display_name": "Python 3"
    },
    "language_info": {
      "name": "python"
    }
  },
  "cells": [
    {
      "cell_type": "markdown",
      "metadata": {
        "id": "view-in-github",
        "colab_type": "text"
      },
      "source": [
        "<a href=\"https://colab.research.google.com/github/ehsan-lari/pyro101/blob/main/pyro_07_VAE.ipynb\" target=\"_parent\"><img src=\"https://colab.research.google.com/assets/colab-badge.svg\" alt=\"Open In Colab\"/></a>"
      ]
    },
    {
      "cell_type": "markdown",
      "source": [
        "# Variational Auto Encoder (VAE)\n",
        "---"
      ],
      "metadata": {
        "id": "ND14uYATN0ZL"
      }
    },
    {
      "cell_type": "code",
      "execution_count": 45,
      "metadata": {
        "id": "vk5zUIHcNyzy"
      },
      "outputs": [],
      "source": [
        "!pip install -q --upgrade pyro-ppl"
      ]
    },
    {
      "cell_type": "code",
      "source": [
        "import numpy as np\n",
        "import torch\n",
        "import torchvision.datasets as datasets\n",
        "import torch.nn as nn\n",
        "import torchvision.transforms as transforms\n",
        "import pyro\n",
        "import pyro.distributions as dist\n",
        "from pyro.infer import SVI, Trace_ELBO\n",
        "from pyro.optim import Adam\n",
        "import datetime\n",
        "import os\n",
        "import matplotlib.gridspec as gridspec\n",
        "from matplotlib import pyplot\n",
        "import matplotlib.pyplot as plt\n",
        "import matplotlib\n",
        "from scipy.stats import norm\n",
        "import copy\n",
        "import seaborn as sns\n",
        "import pandas as pd\n",
        "\n",
        "import ssl\n",
        "ssl._create_default_https_context = ssl._create_unverified_context\n",
        "\n",
        "import warnings\n",
        "warnings.filterwarnings(\"ignore\")"
      ],
      "metadata": {
        "id": "lufFU3UhOBV9"
      },
      "execution_count": 46,
      "outputs": []
    },
    {
      "cell_type": "code",
      "source": [
        "torch.random.manual_seed(42)\n",
        "\n",
        "def get_data_sample(digits = [1, 2, 3], image_per_class = 100):\n",
        "\n",
        "  mnist = datasets.MNIST(root='./data/', train=True, download=True)\n",
        "\n",
        "  select = np.array([], dtype=int)\n",
        "  for i in digits:\n",
        "    select = np.concatenate((select,\n",
        "                             np.random.choice(np.where(mnist.targets == i)[0],\n",
        "                                              size=image_per_class,\n",
        "                                              replace=False)))\n",
        "\n",
        "  mnist.data[mnist.data <= 128] = 0\n",
        "  mnist.data[mnist.data > 128] = 1\n",
        "\n",
        "  mnist.data = mnist.data[select,:,:].type(torch.float)\n",
        "  mnist.targets = mnist.targets[select].reshape(image_per_class*len(digits), -1)\n",
        "\n",
        "  return mnist"
      ],
      "metadata": {
        "id": "vavnJ5dMOFM4"
      },
      "execution_count": 47,
      "outputs": []
    },
    {
      "cell_type": "code",
      "source": [
        "data = get_data_sample()"
      ],
      "metadata": {
        "id": "HmZNgo04U_JY"
      },
      "execution_count": 48,
      "outputs": []
    },
    {
      "cell_type": "code",
      "source": [
        "def display_image(x):\n",
        "    plt.figure(figsize=(10,4))\n",
        "    for i in range(10):\n",
        "        plt.subplot(2,5,i+1)\n",
        "        plt.imshow(x[i].reshape((28, 28)), cmap=\"gray\")\n",
        "        # plt.title(x[i].targets)\n",
        "        plt.axis('off')\n",
        "\n",
        "toy_image = data.data[np.random.random_integers(0,300,10),:]\n",
        "display_image(toy_image)"
      ],
      "metadata": {
        "colab": {
          "base_uri": "https://localhost:8080/",
          "height": 338
        },
        "id": "iDVRPwEoVK4i",
        "outputId": "f17b5dc1-240b-4d3e-c53d-8c275f1da76b"
      },
      "execution_count": 50,
      "outputs": [
        {
          "output_type": "display_data",
          "data": {
            "text/plain": [
              "<Figure size 1000x400 with 10 Axes>"
            ],
            "image/png": "[encoded data removed]"
          },
          "metadata": {}
        }
      ]
    },
    {
      "cell_type": "code",
      "source": [
        "class VAE(nn.Module):\n",
        "    def __init__(self, z_dim, encoder, decoder):\n",
        "        super(VAE, self).__init__()\n",
        "        self.encoder = encoder\n",
        "        self.decoder = decoder\n",
        "        self.z_dim = z_dim\n",
        "\n",
        "    def model(self, x):\n",
        "      pyro.module(\"decoder\", self.decoder)\n",
        "      with pyro.plate(\"data\", x.shape[0]):\n",
        "          z_loc = x.new_zeros(torch.Size((x.shape[0], self.z_dim)))\n",
        "          z_scale = x.new_ones(torch.Size((x.shape[0], self.z_dim)))\n",
        "          z = pyro.sample(\"latent\", dist.Normal(z_loc, z_scale).to_event(1))\n",
        "          loc_img = self.decoder.forward(z)\n",
        "          pyro.sample('obs', dist.Bernoulli(loc_img).to_event(1), obs=x.reshape(-1, 784))\n",
        "\n",
        "    def guide(self, x):\n",
        "      pyro.module(\"encoder\", self.encoder)\n",
        "      with pyro.plate(\"data\", x.shape[0]):\n",
        "          z_loc, z_scale  = self.encoder.forward(x)\n",
        "          pyro.sample(\"latent\", dist.Normal(z_loc, z_scale).to_event(1))\n",
        "\n",
        "    def sample_images(self, z, num_images = 5):\n",
        "      if type(z) is not torch.Tensor:\n",
        "        z = torch.tensor(z, dtype=torch.float32)\n",
        "      logits = self.decoder.forward(z)\n",
        "      distribution = dist.Bernoulli(logits=logits)\n",
        "\n",
        "      f, ax = plt.subplots(1 , num_images+1, figsize=(10, 10), sharex=True)\n",
        "      plt.axis('off')\n",
        "      ax[0].imshow(distribution.mean.detach().numpy().reshape(28, 28), cmap='gray')\n",
        "      ax[0].set_xlabel('Mean of Distribution')\n",
        "      for i in range(num_images+1):\n",
        "        ax[i].imshow(distribution.sample().detach().numpy().reshape(28, 28), cmap='gray')\n",
        "        ax[i].set_xlabel(f\"Sample {i+1}\")\n",
        "      plt.show()\n",
        "\n",
        "    def reconstruct_image(self, x):\n",
        "      pyro.module(\"encoder\", self.encoder)\n",
        "      pyro.module(\"decoder\", self.decoder)"
      ],
      "metadata": {
        "id": "VAFtCwR2YUsu"
      },
      "execution_count": 51,
      "outputs": []
    },
    {
      "cell_type": "code",
      "source": [],
      "metadata": {
        "id": "KRtDCF8HfdSG"
      },
      "execution_count": null,
      "outputs": []
    }
  ]
}