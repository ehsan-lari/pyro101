{
  "nbformat": 4,
  "nbformat_minor": 0,
  "metadata": {
    "colab": {
      "provenance": [],
      "authorship_tag": "ABX9TyOfvAyIegTOSPlmlYVqkdWV",
      "include_colab_link": true
    },
    "kernelspec": {
      "name": "python3",
      "display_name": "Python 3"
    },
    "language_info": {
      "name": "python"
    }
  },
  "cells": [
    {
      "cell_type": "markdown",
      "metadata": {
        "id": "view-in-github",
        "colab_type": "text"
      },
      "source": [
        "<a href=\"https://colab.research.google.com/github/ehsan-lari/pyro101/blob/main/pyro_03.ipynb\" target=\"_parent\"><img src=\"https://colab.research.google.com/assets/colab-badge.svg\" alt=\"Open In Colab\"/></a>"
      ]
    },
    {
      "cell_type": "markdown",
      "source": [
        "## Bayesian linear regression model"
      ],
      "metadata": {
        "id": "4kSlT-T7bAyg"
      }
    },
    {
      "cell_type": "code",
      "source": [],
      "metadata": {
        "id": "lBIbBFn2bDo7"
      },
      "execution_count": null,
      "outputs": []
    }
  ]
}