{
  "nbformat": 4,
  "nbformat_minor": 0,
  "metadata": {
    "colab": {
      "provenance": [],
      "authorship_tag": "ABX9TyOutpaZ5nsKnbzbk0xXFfKY",
      "include_colab_link": true
    },
    "kernelspec": {
      "name": "python3",
      "display_name": "Python 3"
    },
    "language_info": {
      "name": "python"
    }
  },
  "cells": [
    {
      "cell_type": "markdown",
      "metadata": {
        "id": "view-in-github",
        "colab_type": "text"
      },
      "source": [
        "<a href=\"https://colab.research.google.com/github/ehsan-lari/pyro101/blob/main/pyro_02.ipynb\" target=\"_parent\"><img src=\"https://colab.research.google.com/assets/colab-badge.svg\" alt=\"Open In Colab\"/></a>"
      ]
    },
    {
      "cell_type": "markdown",
      "source": [
        "## The variational model: A Guassian model with unknown mean and variance"
      ],
      "metadata": {
        "id": "ZzKJhD7TXXwO"
      }
    },
    {
      "cell_type": "code",
      "source": [
        "%matplotlib inline\n",
        "import numpy as np\n",
        "import matplotlib.pyplot as plt\n",
        "from scipy import special, stats"
      ],
      "metadata": {
        "id": "4IQD6Y5FXhTu"
      },
      "execution_count": null,
      "outputs": []
    },
    {
      "cell_type": "code",
      "execution_count": null,
      "metadata": {
        "id": "H9oJ57xm2oIP"
      },
      "outputs": [],
      "source": [
        "ALPHA_PRIOR, BETA_PRIOR = 1e-2, 1e-2\n",
        "MU_PRIOR = 0\n",
        "TAU_PRIOR = 1e-6\n",
        "\n",
        "np.random.seed(42)\n",
        "N = 100\n",
        "TRUE_MEAN = 5\n",
        "TRUE_PRECISION = 1\n",
        "x = np.random.normal(loc=TRUE_MEAN, scale=1./np.sqrt(TRUE_PRECISION), size=N)"
      ]
    },
    {
      "cell_type": "code",
      "source": [
        "def calculate_ELBO(data, tau, alpha, beta, nu_p, tau_p, alpha_p, beta_p):\n",
        "  log_p = -0.5 * np.log(2 * np.pi) + 0.5 * np.log(tau) - 0.5 * tau * (1 / tau_p + nu_p * nu_p )\n",
        "\n",
        "  log_p = log_p + alpha * np.log(beta) + \\\n",
        "          (alpha - 1) * ( special.digamma(alpha_p) - np.log(beta_p) ) - beta * alpha_p / beta_p\n",
        "\n",
        "  for xi in data:\n",
        "    log_p += -0.5 * np.log(2 * np.pi) \\\n",
        "             + 0.5 * ( special.digamma(alpha_p) - np.log(beta_p) ) \\\n",
        "             - 0.5 * alpha_p / beta_p * ( xi * xi - 2 * xi * nu_p + 1 / tau_p + nu_p * nu_p )\n",
        "\n",
        "  entropy = 0.5 * np.log( 2 * np.pi * np.exp(1) / tau_p )\n",
        "  entropy += alpha_p - np.log( beta_p ) + special.gammaln(alpha_p) \\\n",
        "             + ( 1 - alpha_p ) * special.digamma(alpha_p)\n",
        "\n",
        "  return log_p + entropy"
      ],
      "metadata": {
        "id": "r80ax4l4p3XQ"
      },
      "execution_count": null,
      "outputs": []
    },
    {
      "cell_type": "code",
      "source": [
        "alpha_q = ALPHA_PRIOR\n",
        "beta_q = BETA_PRIOR\n",
        "nu_q = MU_PRIOR\n",
        "tau_q = TAU_PRIOR\n",
        "previous_ELBO = -np.inf\n",
        "ITERATION = 50\n",
        "\n",
        "for iteration in range(ITERATION):\n",
        "  alpha_q = ALPHA_PRIOR + 0.5 * N\n",
        "  beta_q = BETA_PRIOR + 0.5 * np.sum(x * x) - nu_q * np.sum(x) + 0.5 * N * ( 1. / tau_q + nu_q * nu_q )\n",
        "\n",
        "  expected_gamma = alpha_q / beta_q\n",
        "  tau_q = TAU_PRIOR + N * expected_gamma\n",
        "  nu_q = expected_gamma * np.sum(x) / tau_q\n",
        "\n",
        "  current_ELBO = calculate_ELBO(data=x,\n",
        "                                tau=TAU_PRIOR,\n",
        "                                alpha=ALPHA_PRIOR,\n",
        "                                beta=BETA_PRIOR,\n",
        "                                nu_p=nu_q,\n",
        "                                tau_p=tau_q,\n",
        "                                alpha_p=alpha_q,\n",
        "                                beta_p=beta_q)\n",
        "\n",
        "  print(\"Iteration: {} ELBO: {}\".format(iteration, current_ELBO))\n",
        "\n",
        "  previous_ELBO = current_ELBO"
      ],
      "metadata": {
        "id": "RtjyCkCZtRAq",
        "colab": {
          "base_uri": "https://localhost:8080/"
        },
        "outputId": "49daf2c7-b0e9-4ac7-be0e-59868b7b1719"
      },
      "execution_count": null,
      "outputs": [
        {
          "output_type": "stream",
          "name": "stdout",
          "text": [
            "Iteration: 0 ELBO: -786.1880330567017\n",
            "Iteration: 1 ELBO: -557.6868575549023\n",
            "Iteration: 2 ELBO: -330.4821015062628\n",
            "Iteration: 3 ELBO: -154.18289252127906\n",
            "Iteration: 4 ELBO: -142.16324839011187\n",
            "Iteration: 5 ELBO: -142.15974543444332\n",
            "Iteration: 6 ELBO: -142.1597450787318\n",
            "Iteration: 7 ELBO: -142.1597450786965\n",
            "Iteration: 8 ELBO: -142.1597450786966\n",
            "Iteration: 9 ELBO: -142.15974507869643\n",
            "Iteration: 10 ELBO: -142.15974507869635\n",
            "Iteration: 11 ELBO: -142.1597450786962\n",
            "Iteration: 12 ELBO: -142.1597450786962\n",
            "Iteration: 13 ELBO: -142.1597450786962\n",
            "Iteration: 14 ELBO: -142.1597450786962\n",
            "Iteration: 15 ELBO: -142.1597450786962\n",
            "Iteration: 16 ELBO: -142.1597450786962\n",
            "Iteration: 17 ELBO: -142.1597450786962\n",
            "Iteration: 18 ELBO: -142.1597450786962\n",
            "Iteration: 19 ELBO: -142.1597450786962\n",
            "Iteration: 20 ELBO: -142.1597450786962\n",
            "Iteration: 21 ELBO: -142.1597450786962\n",
            "Iteration: 22 ELBO: -142.1597450786962\n",
            "Iteration: 23 ELBO: -142.1597450786962\n",
            "Iteration: 24 ELBO: -142.1597450786962\n",
            "Iteration: 25 ELBO: -142.1597450786962\n",
            "Iteration: 26 ELBO: -142.1597450786962\n",
            "Iteration: 27 ELBO: -142.1597450786962\n",
            "Iteration: 28 ELBO: -142.1597450786962\n",
            "Iteration: 29 ELBO: -142.1597450786962\n",
            "Iteration: 30 ELBO: -142.1597450786962\n",
            "Iteration: 31 ELBO: -142.1597450786962\n",
            "Iteration: 32 ELBO: -142.1597450786962\n",
            "Iteration: 33 ELBO: -142.1597450786962\n",
            "Iteration: 34 ELBO: -142.1597450786962\n",
            "Iteration: 35 ELBO: -142.1597450786962\n",
            "Iteration: 36 ELBO: -142.1597450786962\n",
            "Iteration: 37 ELBO: -142.1597450786962\n",
            "Iteration: 38 ELBO: -142.1597450786962\n",
            "Iteration: 39 ELBO: -142.1597450786962\n",
            "Iteration: 40 ELBO: -142.1597450786962\n",
            "Iteration: 41 ELBO: -142.1597450786962\n",
            "Iteration: 42 ELBO: -142.1597450786962\n",
            "Iteration: 43 ELBO: -142.1597450786962\n",
            "Iteration: 44 ELBO: -142.1597450786962\n",
            "Iteration: 45 ELBO: -142.1597450786962\n",
            "Iteration: 46 ELBO: -142.1597450786962\n",
            "Iteration: 47 ELBO: -142.1597450786962\n",
            "Iteration: 48 ELBO: -142.1597450786962\n",
            "Iteration: 49 ELBO: -142.1597450786962\n"
          ]
        }
      ]
    }
  ]
}