{
  "nbformat": 4,
  "nbformat_minor": 0,
  "metadata": {
    "colab": {
      "provenance": [],
      "authorship_tag": "ABX9TyMe5Ei+HloU84Sy0u1yKgrB",
      "include_colab_link": true
    },
    "kernelspec": {
      "name": "python3",
      "display_name": "Python 3"
    },
    "language_info": {
      "name": "python"
    }
  },
  "cells": [
    {
      "cell_type": "markdown",
      "metadata": {
        "id": "view-in-github",
        "colab_type": "text"
      },
      "source": [
        "<a href=\"https://colab.research.google.com/github/ehsan-lari/pyro101/blob/main/pyro_01.ipynb\" target=\"_parent\"><img src=\"https://colab.research.google.com/assets/colab-badge.svg\" alt=\"Open In Colab\"/></a>"
      ]
    },
    {
      "cell_type": "code",
      "execution_count": null,
      "metadata": {
        "id": "LKLrh4ITTA5L"
      },
      "outputs": [],
      "source": [
        "%pip -q install pyro-ppl"
      ]
    },
    {
      "cell_type": "code",
      "source": [
        "import logging\n",
        "import os\n",
        "\n",
        "import torch\n",
        "import numpy as np\n",
        "import pandas as pd\n",
        "import seaborn as sns\n",
        "import matplotlib.pyplot as plt\n",
        "\n",
        "import pyro"
      ],
      "metadata": {
        "id": "4TMdnK2CVF9i"
      },
      "execution_count": 5,
      "outputs": []
    },
    {
      "cell_type": "code",
      "source": [
        "smoke_test = ('CI' in os.environ)\n",
        "assert pyro.__version__.startswith('1.9.1')\n",
        "\n",
        "pyro.enable_validation(True)\n",
        "pyro.set_rng_seed(1)\n",
        "logging.basicConfig(format='%(message)s', level=logging.INFO)\n",
        "\n",
        "# Set matplotlib settings\n",
        "%matplotlib inline\n",
        "plt.style.use('default')"
      ],
      "metadata": {
        "id": "yQBK5qysXiFB"
      },
      "execution_count": 6,
      "outputs": []
    },
    {
      "cell_type": "code",
      "source": [
        "DATA_URL = \"https://github.com/pyro-ppl/brmp/raw/master/brmp/examples/rugged_data.csv\"\n",
        "data = pd.read_csv(DATA_URL, encoding=\"ISO-8859-1\")\n",
        "df = data[[\"cont_africa\", \"rugged\", \"rgdppc_2000\"]]"
      ],
      "metadata": {
        "id": "frW-6futv98V"
      },
      "execution_count": 10,
      "outputs": []
    },
    {
      "cell_type": "code",
      "source": [
        "df = df[np.isfinite(df.rgdppc_2000)]\n",
        "df[\"rgdppc_2000\"] = np.log(df[\"rgdppc_2000\"])"
      ],
      "metadata": {
        "id": "nZMNPILb1UY3"
      },
      "execution_count": null,
      "outputs": []
    },
    {
      "cell_type": "code",
      "source": [
        "train = torch.tensor(df.values, dtype=torch.float)\n",
        "is_cont_africa, ruggedness, log_gdp = train[:, 0], train[:, 1], train[:, 2]"
      ],
      "metadata": {
        "id": "vNLKrcQg2F8T"
      },
      "execution_count": 21,
      "outputs": []
    },
    {
      "cell_type": "code",
      "source": [
        "fig, ax = plt.subplots(nrows=1, ncols=2, figsize=(12, 6), sharey=True)\n",
        "african_nations = df[df[\"cont_africa\"] == 1]\n",
        "non_african_nations = df[df[\"cont_africa\"] == 0]\n",
        "sns.scatterplot(x=non_african_nations[\"rugged\"],\n",
        "                y=non_african_nations[\"rgdppc_2000\"],\n",
        "                ax=ax[0])\n",
        "ax[0].set(xlabel=\"Terrain Ruggedness Index\",\n",
        "          ylabel=\"log GDP (2000)\",\n",
        "          title=\"Non African Nations\")\n",
        "sns.scatterplot(x=african_nations[\"rugged\"],\n",
        "                y=african_nations[\"rgdppc_2000\"],\n",
        "                ax=ax[1])\n",
        "ax[1].set(xlabel=\"Terrain Ruggedness Index\",\n",
        "          ylabel=\"log GDP (2000)\",\n",
        "          title=\"African Nations\");"
      ],
      "metadata": {
        "id": "dUh_HsrU2gJw"
      },
      "execution_count": null,
      "outputs": []
    },
    {
      "cell_type": "markdown",
      "source": [
        "mean = a + b_a * is_cont_africa + b_r * ruggedness + b_ar * is_cont_africa * ruggedness"
      ],
      "metadata": {
        "id": "snSREfsN6yUN"
      }
    },
    {
      "cell_type": "code",
      "source": [
        "import pyro.distributions as dist\n",
        "import pyro.distributions.constraints as constraints"
      ],
      "metadata": {
        "id": "NpL-uSYA67Zu"
      },
      "execution_count": 31,
      "outputs": []
    },
    {
      "cell_type": "code",
      "source": [
        "def simple_model(is_cont_africa, ruggedness, log_gdp=None):\n",
        "    a = pyro.param(\"a\", lambda: torch.randn(()))\n",
        "    b_a = pyro.param(\"b_A\", lambda: torch.randn(()))\n",
        "    b_r = pyro.param(\"b_R\", lambda: torch.randn(()))\n",
        "    b_ar = pyro.param(\"b_AR\", lambda: torch.randn(()))\n",
        "    sigma = pyro.param(\"sigma\", lambda: torch.ones(()), constraint=constraints.positive)\n",
        "\n",
        "    mean = a + b_a * is_cont_africa + b_r * ruggedness + b_ar * is_cont_africa * ruggedness\n",
        "\n",
        "    with pyro.plate(\"data\", len(ruggedness)):\n",
        "        return pyro.sample(\"obs\", dist.Normal(mean, sigma), obs=log_gdp)\n",
        "\n",
        "pyro.render_model(simple_model, model_args=(is_cont_africa, ruggedness, log_gdp), render_distributions=True, render_params=True)"
      ],
      "metadata": {
        "colab": {
          "base_uri": "https://localhost:8080/",
          "height": 311
        },
        "id": "q8UyxGye6xq1",
        "outputId": "b8e44953-e350-411e-c850-0736ae51c2cb"
      },
      "execution_count": 37,
      "outputs": [
        {
          "output_type": "execute_result",
          "data": {
            "image/svg+xml": "<?xml version=\"1.0\" encoding=\"UTF-8\" standalone=\"no\"?>\n<!DOCTYPE svg PUBLIC \"-//W3C//DTD SVG 1.1//EN\"\n \"http://www.w3.org/Graphics/SVG/1.1/DTD/svg11.dtd\">\n<!-- Generated by graphviz version 2.43.0 (0)\n -->\n<!-- Title: %3 Pages: 1 -->\n<svg width=\"456pt\" height=\"217pt\"\n viewBox=\"0.00 0.00 456.00 217.00\" xmlns=\"http://www.w3.org/2000/svg\" xmlns:xlink=\"http://www.w3.org/1999/xlink\">\n<g id=\"graph0\" class=\"graph\" transform=\"scale(1 1) rotate(0) translate(4 213)\">\n<title>%3</title>\n<polygon fill=\"white\" stroke=\"transparent\" points=\"-4,4 -4,-213 452,-213 452,4 -4,4\"/>\n<g id=\"clust1\" class=\"cluster\">\n<title>cluster_data</title>\n<polygon fill=\"none\" stroke=\"black\" points=\"59.5,-8 59.5,-83 129.5,-83 129.5,-8 59.5,-8\"/>\n<text text-anchor=\"middle\" x=\"110\" y=\"-15.8\" font-family=\"Times,serif\" font-size=\"14.00\">data</text>\n</g>\n<!-- a -->\n<g id=\"node1\" class=\"node\">\n<title>a</title>\n<polygon fill=\"white\" stroke=\"transparent\" points=\"7,-167.5 0,-167.5 0,-152.5 7,-152.5 7,-167.5\"/>\n<text text-anchor=\"middle\" x=\"3.5\" y=\"-156.3\" font-family=\"Times,serif\" font-size=\"14.00\">a</text>\n</g>\n<!-- obs -->\n<g id=\"node6\" class=\"node\">\n<title>obs</title>\n<ellipse fill=\"gray\" stroke=\"black\" cx=\"94.5\" cy=\"-57\" rx=\"27\" ry=\"18\"/>\n<text text-anchor=\"middle\" x=\"94.5\" y=\"-53.3\" font-family=\"Times,serif\" font-size=\"14.00\">obs</text>\n</g>\n<!-- a&#45;&gt;obs -->\n<g id=\"edge1\" class=\"edge\">\n<title>a&#45;&gt;obs</title>\n<path fill=\"none\" stroke=\"black\" d=\"M3.84,-152.49C4.66,-142.66 7.38,-123.8 16.5,-111 28.34,-94.39 47.12,-81.4 63.29,-72.44\"/>\n<polygon fill=\"black\" stroke=\"black\" points=\"65.21,-75.38 72.43,-67.63 61.95,-69.18 65.21,-75.38\"/>\n</g>\n<!-- sigma -->\n<g id=\"node2\" class=\"node\">\n<title>sigma</title>\n<polygon fill=\"white\" stroke=\"transparent\" points=\"59.5,-167.5 25.5,-167.5 25.5,-152.5 59.5,-152.5 59.5,-167.5\"/>\n<text text-anchor=\"middle\" x=\"42.5\" y=\"-156.3\" font-family=\"Times,serif\" font-size=\"14.00\">sigma</text>\n</g>\n<!-- sigma&#45;&gt;obs -->\n<g id=\"edge5\" class=\"edge\">\n<title>sigma&#45;&gt;obs</title>\n<path fill=\"none\" stroke=\"black\" d=\"M45.91,-152.37C52.99,-138.63 69.59,-106.37 81.42,-83.41\"/>\n<polygon fill=\"black\" stroke=\"black\" points=\"84.69,-84.71 86.15,-74.21 78.46,-81.5 84.69,-84.71\"/>\n</g>\n<!-- b_AR -->\n<g id=\"node3\" class=\"node\">\n<title>b_AR</title>\n<polygon fill=\"white\" stroke=\"transparent\" points=\"111,-167.5 78,-167.5 78,-152.5 111,-152.5 111,-167.5\"/>\n<text text-anchor=\"middle\" x=\"94.5\" y=\"-156.3\" font-family=\"Times,serif\" font-size=\"14.00\">b_AR</text>\n</g>\n<!-- b_AR&#45;&gt;obs -->\n<g id=\"edge4\" class=\"edge\">\n<title>b_AR&#45;&gt;obs</title>\n<path fill=\"none\" stroke=\"black\" d=\"M94.5,-152.37C94.5,-139.04 94.5,-108.29 94.5,-85.49\"/>\n<polygon fill=\"black\" stroke=\"black\" points=\"98,-85.36 94.5,-75.36 91,-85.36 98,-85.36\"/>\n</g>\n<!-- b_R -->\n<g id=\"node4\" class=\"node\">\n<title>b_R</title>\n<polygon fill=\"white\" stroke=\"transparent\" points=\"152,-167.5 129,-167.5 129,-152.5 152,-152.5 152,-167.5\"/>\n<text text-anchor=\"middle\" x=\"140.5\" y=\"-156.3\" font-family=\"Times,serif\" font-size=\"14.00\">b_R</text>\n</g>\n<!-- b_R&#45;&gt;obs -->\n<g id=\"edge3\" class=\"edge\">\n<title>b_R&#45;&gt;obs</title>\n<path fill=\"none\" stroke=\"black\" d=\"M137.91,-152.42C134.21,-143.13 127.13,-125.64 120.5,-111 116.44,-102.05 111.78,-92.36 107.53,-83.75\"/>\n<polygon fill=\"black\" stroke=\"black\" points=\"110.55,-81.98 102.96,-74.58 104.29,-85.1 110.55,-81.98\"/>\n</g>\n<!-- b_A -->\n<g id=\"node5\" class=\"node\">\n<title>b_A</title>\n<polygon fill=\"white\" stroke=\"transparent\" points=\"194.5,-167.5 170.5,-167.5 170.5,-152.5 194.5,-152.5 194.5,-167.5\"/>\n<text text-anchor=\"middle\" x=\"182.5\" y=\"-156.3\" font-family=\"Times,serif\" font-size=\"14.00\">b_A</text>\n</g>\n<!-- b_A&#45;&gt;obs -->\n<g id=\"edge2\" class=\"edge\">\n<title>b_A&#45;&gt;obs</title>\n<path fill=\"none\" stroke=\"black\" d=\"M180.69,-152.25C177.82,-142.43 171.5,-123.96 161.5,-111 150.73,-97.03 135.5,-84.6 122.28,-75.3\"/>\n<polygon fill=\"black\" stroke=\"black\" points=\"124.2,-72.36 113.96,-69.65 120.27,-78.16 124.2,-72.36\"/>\n</g>\n<!-- distribution_description_node -->\n<g id=\"node7\" class=\"node\">\n<title>distribution_description_node</title>\n<text text-anchor=\"start\" x=\"221\" y=\"-193.8\" font-family=\"Times,serif\" font-size=\"14.00\">obs ~ Normal</text>\n<text text-anchor=\"start\" x=\"221\" y=\"-178.8\" font-family=\"Times,serif\" font-size=\"14.00\">a : Real()</text>\n<text text-anchor=\"start\" x=\"221\" y=\"-163.8\" font-family=\"Times,serif\" font-size=\"14.00\">b_A : Real()</text>\n<text text-anchor=\"start\" x=\"221\" y=\"-148.8\" font-family=\"Times,serif\" font-size=\"14.00\">b_R : Real()</text>\n<text text-anchor=\"start\" x=\"221\" y=\"-133.8\" font-family=\"Times,serif\" font-size=\"14.00\">b_AR : Real()</text>\n<text text-anchor=\"start\" x=\"221\" y=\"-118.8\" font-family=\"Times,serif\" font-size=\"14.00\">sigma : GreaterThan(lower_bound=0.0)</text>\n</g>\n</g>\n</svg>\n",
            "text/plain": [
              "<graphviz.graphs.Digraph at 0x7fd170d79350>"
            ]
          },
          "metadata": {},
          "execution_count": 37
        }
      ]
    },
    {
      "cell_type": "code",
      "source": [
        "def model(is_cont_africa, ruggedness, log_gdp=None):\n",
        "    a = pyro.sample(\"a\", dist.Normal(0., 10.))\n",
        "    b_a = pyro.sample(\"b_A\", dist.Normal(0., 1.))\n",
        "    b_r = pyro.sample(\"b_R\", dist.Normal(0., 1.))\n",
        "    b_ar = pyro.sample(\"b_AR\", dist.Normal(0., 1.))\n",
        "    sigma = pyro.sample(\"sigma\", dist.Uniform(0., 10.))\n",
        "\n",
        "    mean = a + b_a * is_cont_africa + b_r * ruggedness + b_ar * is_cont_africa * ruggedness\n",
        "\n",
        "    with pyro.plate(\"data\", len(ruggedness)):\n",
        "        return pyro.sample(\"obs\", dist.Normal(mean, sigma), obs=log_gdp)\n",
        "\n",
        "pyro.render_model(model, model_args=(is_cont_africa, ruggedness, log_gdp), render_distributions=True)"
      ],
      "metadata": {
        "colab": {
          "base_uri": "https://localhost:8080/",
          "height": 311
        },
        "id": "Qnhpd8fmTnxM",
        "outputId": "ef994034-5eda-473c-975f-523b2506d0b3"
      },
      "execution_count": 39,
      "outputs": [
        {
          "output_type": "execute_result",
          "data": {
            "image/svg+xml": "<?xml version=\"1.0\" encoding=\"UTF-8\" standalone=\"no\"?>\n<!DOCTYPE svg PUBLIC \"-//W3C//DTD SVG 1.1//EN\"\n \"http://www.w3.org/Graphics/SVG/1.1/DTD/svg11.dtd\">\n<!-- Generated by graphviz version 2.43.0 (0)\n -->\n<!-- Title: %3 Pages: 1 -->\n<svg width=\"500pt\" height=\"217pt\"\n viewBox=\"0.00 0.00 500.00 217.00\" xmlns=\"http://www.w3.org/2000/svg\" xmlns:xlink=\"http://www.w3.org/1999/xlink\">\n<g id=\"graph0\" class=\"graph\" transform=\"scale(1 1) rotate(0) translate(4 213)\">\n<title>%3</title>\n<polygon fill=\"white\" stroke=\"transparent\" points=\"-4,4 -4,-213 496,-213 496,4 -4,4\"/>\n<g id=\"clust1\" class=\"cluster\">\n<title>cluster_data</title>\n<polygon fill=\"none\" stroke=\"black\" points=\"136,-8 136,-83 206,-83 206,-8 136,-8\"/>\n<text text-anchor=\"middle\" x=\"186.5\" y=\"-15.8\" font-family=\"Times,serif\" font-size=\"14.00\">data</text>\n</g>\n<!-- a -->\n<g id=\"node1\" class=\"node\">\n<title>a</title>\n<ellipse fill=\"white\" stroke=\"black\" cx=\"27\" cy=\"-160\" rx=\"27\" ry=\"18\"/>\n<text text-anchor=\"middle\" x=\"27\" y=\"-156.3\" font-family=\"Times,serif\" font-size=\"14.00\">a</text>\n</g>\n<!-- obs -->\n<g id=\"node6\" class=\"node\">\n<title>obs</title>\n<ellipse fill=\"gray\" stroke=\"black\" cx=\"171\" cy=\"-57\" rx=\"27\" ry=\"18\"/>\n<text text-anchor=\"middle\" x=\"171\" y=\"-53.3\" font-family=\"Times,serif\" font-size=\"14.00\">obs</text>\n</g>\n<!-- a&#45;&gt;obs -->\n<g id=\"edge1\" class=\"edge\">\n<title>a&#45;&gt;obs</title>\n<path fill=\"none\" stroke=\"black\" d=\"M36.41,-142.75C42.89,-132.64 52.25,-119.9 63,-111 85.28,-92.55 115.06,-78.55 137.71,-69.58\"/>\n<polygon fill=\"black\" stroke=\"black\" points=\"139.16,-72.78 147.25,-65.94 136.66,-66.24 139.16,-72.78\"/>\n</g>\n<!-- b_A -->\n<g id=\"node2\" class=\"node\">\n<title>b_A</title>\n<ellipse fill=\"white\" stroke=\"black\" cx=\"99\" cy=\"-160\" rx=\"27\" ry=\"18\"/>\n<text text-anchor=\"middle\" x=\"99\" y=\"-156.3\" font-family=\"Times,serif\" font-size=\"14.00\">b_A</text>\n</g>\n<!-- b_A&#45;&gt;obs -->\n<g id=\"edge2\" class=\"edge\">\n<title>b_A&#45;&gt;obs</title>\n<path fill=\"none\" stroke=\"black\" d=\"M110.25,-143.22C121.98,-126.76 140.5,-100.78 154.02,-81.82\"/>\n<polygon fill=\"black\" stroke=\"black\" points=\"156.87,-83.84 159.83,-73.67 151.17,-79.78 156.87,-83.84\"/>\n</g>\n<!-- b_R -->\n<g id=\"node3\" class=\"node\">\n<title>b_R</title>\n<ellipse fill=\"white\" stroke=\"black\" cx=\"171\" cy=\"-160\" rx=\"27\" ry=\"18\"/>\n<text text-anchor=\"middle\" x=\"171\" y=\"-156.3\" font-family=\"Times,serif\" font-size=\"14.00\">b_R</text>\n</g>\n<!-- b_R&#45;&gt;obs -->\n<g id=\"edge3\" class=\"edge\">\n<title>b_R&#45;&gt;obs</title>\n<path fill=\"none\" stroke=\"black\" d=\"M171,-141.87C171,-126.41 171,-103.42 171,-85.41\"/>\n<polygon fill=\"black\" stroke=\"black\" points=\"174.5,-85.22 171,-75.22 167.5,-85.22 174.5,-85.22\"/>\n</g>\n<!-- b_AR -->\n<g id=\"node4\" class=\"node\">\n<title>b_AR</title>\n<ellipse fill=\"white\" stroke=\"black\" cx=\"248\" cy=\"-160\" rx=\"31.7\" ry=\"18\"/>\n<text text-anchor=\"middle\" x=\"248\" y=\"-156.3\" font-family=\"Times,serif\" font-size=\"14.00\">b_AR</text>\n</g>\n<!-- b_AR&#45;&gt;obs -->\n<g id=\"edge4\" class=\"edge\">\n<title>b_AR&#45;&gt;obs</title>\n<path fill=\"none\" stroke=\"black\" d=\"M235.97,-143.22C223.35,-126.67 203.38,-100.47 188.91,-81.49\"/>\n<polygon fill=\"black\" stroke=\"black\" points=\"191.54,-79.17 182.69,-73.34 185.97,-83.41 191.54,-79.17\"/>\n</g>\n<!-- sigma -->\n<g id=\"node5\" class=\"node\">\n<title>sigma</title>\n<ellipse fill=\"white\" stroke=\"black\" cx=\"330\" cy=\"-160\" rx=\"32.49\" ry=\"18\"/>\n<text text-anchor=\"middle\" x=\"330\" y=\"-156.3\" font-family=\"Times,serif\" font-size=\"14.00\">sigma</text>\n</g>\n<!-- sigma&#45;&gt;obs -->\n<g id=\"edge5\" class=\"edge\">\n<title>sigma&#45;&gt;obs</title>\n<path fill=\"none\" stroke=\"black\" d=\"M318.95,-142.69C311.44,-132.54 300.75,-119.81 289,-111 263.41,-91.83 229.78,-77.59 204.98,-68.72\"/>\n<polygon fill=\"black\" stroke=\"black\" points=\"205.86,-65.33 195.27,-65.37 203.58,-71.94 205.86,-65.33\"/>\n</g>\n<!-- distribution_description_node -->\n<g id=\"node7\" class=\"node\">\n<title>distribution_description_node</title>\n<text text-anchor=\"start\" x=\"388\" y=\"-193.8\" font-family=\"Times,serif\" font-size=\"14.00\">a ~ Normal</text>\n<text text-anchor=\"start\" x=\"388\" y=\"-178.8\" font-family=\"Times,serif\" font-size=\"14.00\">b_A ~ Normal</text>\n<text text-anchor=\"start\" x=\"388\" y=\"-163.8\" font-family=\"Times,serif\" font-size=\"14.00\">b_R ~ Normal</text>\n<text text-anchor=\"start\" x=\"388\" y=\"-148.8\" font-family=\"Times,serif\" font-size=\"14.00\">b_AR ~ Normal</text>\n<text text-anchor=\"start\" x=\"388\" y=\"-133.8\" font-family=\"Times,serif\" font-size=\"14.00\">sigma ~ Uniform</text>\n<text text-anchor=\"start\" x=\"388\" y=\"-118.8\" font-family=\"Times,serif\" font-size=\"14.00\">obs ~ Normal</text>\n</g>\n</g>\n</svg>\n",
            "text/plain": [
              "<graphviz.graphs.Digraph at 0x7fd170d5dd10>"
            ]
          },
          "metadata": {},
          "execution_count": 39
        }
      ]
    }
  ]
}