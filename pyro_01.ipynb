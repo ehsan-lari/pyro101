{
  "nbformat": 4,
  "nbformat_minor": 0,
  "metadata": {
    "colab": {
      "provenance": [],
      "authorship_tag": "ABX9TyMR2BNGRwRKf6ZEb/Ycod2U",
      "include_colab_link": true
    },
    "kernelspec": {
      "name": "python3",
      "display_name": "Python 3"
    },
    "language_info": {
      "name": "python"
    }
  },
  "cells": [
    {
      "cell_type": "markdown",
      "metadata": {
        "id": "view-in-github",
        "colab_type": "text"
      },
      "source": [
        "<a href=\"https://colab.research.google.com/github/ehsan-lari/pyro101/blob/main/pyro_01.ipynb\" target=\"_parent\"><img src=\"https://colab.research.google.com/assets/colab-badge.svg\" alt=\"Open In Colab\"/></a>"
      ]
    },
    {
      "cell_type": "code",
      "execution_count": null,
      "metadata": {
        "id": "LKLrh4ITTA5L"
      },
      "outputs": [],
      "source": [
        "!pip install -q pyro-ppl"
      ]
    },
    {
      "cell_type": "code",
      "source": [
        "import logging\n",
        "import os\n",
        "\n",
        "import torch\n",
        "import numpy as np\n",
        "import pandas as pd\n",
        "import seaborn as sns\n",
        "import matplotlib.pyplot as plt\n",
        "\n",
        "import pyro"
      ],
      "metadata": {
        "id": "4TMdnK2CVF9i"
      },
      "execution_count": null,
      "outputs": []
    },
    {
      "cell_type": "code",
      "source": [
        "smoke_test = ('CI' in os.environ)\n",
        "assert pyro.__version__.startswith('1.9.1')\n",
        "\n",
        "pyro.enable_validation(True)\n",
        "pyro.set_rng_seed(1)\n",
        "logging.basicConfig(format='%(message)s', level=logging.INFO)\n",
        "\n",
        "# Set matplotlib settings\n",
        "%matplotlib inline\n",
        "plt.style.use('default')"
      ],
      "metadata": {
        "id": "yQBK5qysXiFB"
      },
      "execution_count": null,
      "outputs": []
    },
    {
      "cell_type": "code",
      "source": [
        "DATA_URL = \"https://github.com/pyro-ppl/brmp/raw/master/brmp/examples/rugged_data.csv\"\n",
        "data = pd.read_csv(DATA_URL, encoding=\"ISO-8859-1\")\n",
        "df = data[[\"cont_africa\", \"rugged\", \"rgdppc_2000\"]]"
      ],
      "metadata": {
        "id": "frW-6futv98V"
      },
      "execution_count": null,
      "outputs": []
    },
    {
      "cell_type": "code",
      "source": [
        "df = df[np.isfinite(df.rgdppc_2000)]\n",
        "df[\"rgdppc_2000\"] = np.log(df[\"rgdppc_2000\"])"
      ],
      "metadata": {
        "id": "nZMNPILb1UY3"
      },
      "execution_count": null,
      "outputs": []
    },
    {
      "cell_type": "code",
      "source": [
        "train = torch.tensor(df.values, dtype=torch.float)\n",
        "is_cont_africa, ruggedness, log_gdp = train[:, 0], train[:, 1], train[:, 2]"
      ],
      "metadata": {
        "id": "vNLKrcQg2F8T"
      },
      "execution_count": null,
      "outputs": []
    },
    {
      "cell_type": "code",
      "source": [
        "fig, ax = plt.subplots(nrows=1, ncols=2, figsize=(12, 6), sharey=True)\n",
        "african_nations = df[df[\"cont_africa\"] == 1]\n",
        "non_african_nations = df[df[\"cont_africa\"] == 0]\n",
        "sns.scatterplot(x=non_african_nations[\"rugged\"],\n",
        "                y=non_african_nations[\"rgdppc_2000\"],\n",
        "                ax=ax[0])\n",
        "ax[0].set(xlabel=\"Terrain Ruggedness Index\",\n",
        "          ylabel=\"log GDP (2000)\",\n",
        "          title=\"Non African Nations\")\n",
        "sns.scatterplot(x=african_nations[\"rugged\"],\n",
        "                y=african_nations[\"rgdppc_2000\"],\n",
        "                ax=ax[1])\n",
        "ax[1].set(xlabel=\"Terrain Ruggedness Index\",\n",
        "          ylabel=\"log GDP (2000)\",\n",
        "          title=\"African Nations\");"
      ],
      "metadata": {
        "id": "dUh_HsrU2gJw"
      },
      "execution_count": null,
      "outputs": []
    },
    {
      "cell_type": "markdown",
      "source": [
        "mean = a + b_a * is_cont_africa + b_r * ruggedness + b_ar * is_cont_africa * ruggedness"
      ],
      "metadata": {
        "id": "snSREfsN6yUN"
      }
    },
    {
      "cell_type": "code",
      "source": [
        "import pyro.distributions as dist\n",
        "import pyro.distributions.constraints as constraints"
      ],
      "metadata": {
        "id": "NpL-uSYA67Zu"
      },
      "execution_count": null,
      "outputs": []
    },
    {
      "cell_type": "code",
      "source": [
        "def simple_model(is_cont_africa, ruggedness, log_gdp=None):\n",
        "    a = pyro.param(\"a\", lambda: torch.randn(()))\n",
        "    b_a = pyro.param(\"b_A\", lambda: torch.randn(()))\n",
        "    b_r = pyro.param(\"b_R\", lambda: torch.randn(()))\n",
        "    b_ar = pyro.param(\"b_AR\", lambda: torch.randn(()))\n",
        "    sigma = pyro.param(\"sigma\", lambda: torch.ones(()), constraint=constraints.positive)\n",
        "\n",
        "    mean = a + b_a * is_cont_africa + b_r * ruggedness + b_ar * is_cont_africa * ruggedness\n",
        "\n",
        "    with pyro.plate(\"data\", len(ruggedness)):\n",
        "        return pyro.sample(\"obs\", dist.Normal(mean, sigma), obs=log_gdp)\n",
        "\n",
        "pyro.render_model(simple_model, model_args=(is_cont_africa, ruggedness, log_gdp), render_distributions=True, render_params=True)"
      ],
      "metadata": {
        "id": "q8UyxGye6xq1"
      },
      "execution_count": null,
      "outputs": []
    },
    {
      "cell_type": "code",
      "source": [
        "def model(is_cont_africa, ruggedness, log_gdp=None):\n",
        "    a = pyro.sample(\"a\", dist.Normal(0., 10.))\n",
        "    b_a = pyro.sample(\"b_A\", dist.Normal(0., 1.))\n",
        "    b_r = pyro.sample(\"b_R\", dist.Normal(0., 1.))\n",
        "    b_ar = pyro.sample(\"b_AR\", dist.Normal(0., 1.))\n",
        "    sigma = pyro.sample(\"sigma\", dist.Uniform(0., 10.))\n",
        "\n",
        "    mean = a + b_a * is_cont_africa + b_r * ruggedness + b_ar * is_cont_africa * ruggedness\n",
        "\n",
        "    with pyro.plate(\"data\", len(ruggedness)):\n",
        "        return pyro.sample(\"obs\", dist.Normal(mean, sigma), obs=log_gdp)\n",
        "\n",
        "pyro.render_model(model, model_args=(is_cont_africa, ruggedness, log_gdp), render_distributions=True)"
      ],
      "metadata": {
        "id": "Qnhpd8fmTnxM"
      },
      "execution_count": null,
      "outputs": []
    },
    {
      "cell_type": "code",
      "source": [],
      "metadata": {
        "id": "GRD6PLGIGobh"
      },
      "execution_count": null,
      "outputs": []
    }
  ]
}