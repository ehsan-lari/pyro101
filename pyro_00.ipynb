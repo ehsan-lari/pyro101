{
  "nbformat": 4,
  "nbformat_minor": 0,
  "metadata": {
    "colab": {
      "provenance": [],
      "authorship_tag": "ABX9TyOoFv3avhgX0lkHvewjZo3p",
      "include_colab_link": true
    },
    "kernelspec": {
      "name": "python3",
      "display_name": "Python 3"
    },
    "language_info": {
      "name": "python"
    }
  },
  "cells": [
    {
      "cell_type": "markdown",
      "metadata": {
        "id": "view-in-github",
        "colab_type": "text"
      },
      "source": [
        "<a href=\"https://colab.research.google.com/github/ehsan-lari/pyro101/blob/main/pyro_00.ipynb\" target=\"_parent\"><img src=\"https://colab.research.google.com/assets/colab-badge.svg\" alt=\"Open In Colab\"/></a>"
      ]
    },
    {
      "cell_type": "markdown",
      "source": [
        "### 0. Setup"
      ],
      "metadata": {
        "id": "-OZ6nrtyEbuX"
      }
    },
    {
      "cell_type": "code",
      "source": [
        "!pip install -q pyro-ppl"
      ],
      "metadata": {
        "id": "jGzprTsLCMQW"
      },
      "execution_count": null,
      "outputs": []
    },
    {
      "cell_type": "code",
      "source": [
        "import pyro\n",
        "import pyro.distributions as dist\n",
        "\n",
        "import torch"
      ],
      "metadata": {
        "id": "oQiEX7ARCNug"
      },
      "execution_count": null,
      "outputs": []
    },
    {
      "cell_type": "code",
      "source": [
        "normal = dist.Normal(\n",
        "    torch.tensor([0.0, 1.0, 2.0]),\n",
        "    1.0)"
      ],
      "metadata": {
        "id": "k--NA5PnC8WZ"
      },
      "execution_count": null,
      "outputs": []
    },
    {
      "cell_type": "code",
      "source": [
        "# torch.manual_seed(42)\n",
        "\n",
        "normal.sample()"
      ],
      "metadata": {
        "id": "i5vzeBclDS7t"
      },
      "execution_count": null,
      "outputs": []
    },
    {
      "cell_type": "code",
      "source": [
        "normal2 = dist.Normal(0, 1)"
      ],
      "metadata": {
        "id": "NLDp87HmDomh"
      },
      "execution_count": null,
      "outputs": []
    },
    {
      "cell_type": "code",
      "source": [
        "normal2.sample((1, 3, 2))"
      ],
      "metadata": {
        "id": "OsAjXDZJDwKV"
      },
      "execution_count": null,
      "outputs": []
    },
    {
      "cell_type": "markdown",
      "source": [
        "### 1. Introducing Models 1.0"
      ],
      "metadata": {
        "id": "SkMMpmNfES-t"
      }
    },
    {
      "cell_type": "code",
      "source": [
        "def model(mu = 15.0, sigma = 2.0):\n",
        "  temp = pyro.sample('temp', dist.Normal(mu, sigma))\n",
        "  return temp\n",
        "\n",
        "print(model())"
      ],
      "metadata": {
        "id": "dTS9nEMdEAc_"
      },
      "execution_count": null,
      "outputs": []
    },
    {
      "cell_type": "code",
      "source": [
        "pyro.render_model(model, render_distributions=True)"
      ],
      "metadata": {
        "collapsed": true,
        "id": "d3gGjEDoKoto"
      },
      "execution_count": null,
      "outputs": []
    },
    {
      "cell_type": "markdown",
      "source": [
        "### 2. Introducing Models 2.0"
      ],
      "metadata": {
        "id": "f19Q4cr8OkGR"
      }
    },
    {
      "cell_type": "code",
      "source": [
        "def model2(mu = 15.0, sigma = 2.0):\n",
        "  temp = pyro.sample('temp', dist.Normal(mu, sigma))\n",
        "  sensor = pyro.sample('sensor', dist.Normal(temp, 1.0))\n",
        "  return (temp, sensor)\n",
        "\n",
        "print(model2())"
      ],
      "metadata": {
        "id": "7QCvZ2m4K9Un"
      },
      "execution_count": null,
      "outputs": []
    },
    {
      "cell_type": "code",
      "source": [
        "pyro.render_model(model2, render_distributions=True)"
      ],
      "metadata": {
        "id": "bJhJsB8mLS5p"
      },
      "execution_count": null,
      "outputs": []
    },
    {
      "cell_type": "markdown",
      "source": [
        "### 3. Doing Inference"
      ],
      "metadata": {
        "id": "2nLTEAcbOndh"
      }
    },
    {
      "cell_type": "markdown",
      "source": [
        "#### 3.1 Model 1"
      ],
      "metadata": {
        "id": "vJf5eg80pviL"
      }
    },
    {
      "cell_type": "code",
      "source": [
        "obs1 = {'sensor': torch.tensor([18.0])}\n",
        "\n",
        "def model3(obs, mu = 15.0, sigma = 2.0):\n",
        "  temp = pyro.sample('temp', dist.Normal(15.0, 2.0))\n",
        "  sensor = pyro.sample('sensor', dist.Normal(temp, 0.1), obs=obs1['sensor'])"
      ],
      "metadata": {
        "id": "kLKbKdaKO1-m"
      },
      "execution_count": null,
      "outputs": []
    },
    {
      "cell_type": "code",
      "source": [
        "pyro.render_model(model3, model_args=(obs1, ), render_distributions=True)"
      ],
      "metadata": {
        "id": "HugNnk9CQKSd"
      },
      "execution_count": null,
      "outputs": []
    },
    {
      "cell_type": "code",
      "source": [
        "# import pandas as pd\n",
        "\n",
        "# pd.DataFrame(obs)"
      ],
      "metadata": {
        "id": "s-e1RSsnQfqu"
      },
      "execution_count": null,
      "outputs": []
    },
    {
      "cell_type": "markdown",
      "source": [
        "#### 3.2 Model 2"
      ],
      "metadata": {
        "id": "6p2GCtadp1Bu"
      }
    },
    {
      "cell_type": "code",
      "source": [
        "def model4(obs):\n",
        "  mean_temp = pyro.param('mean_temp', torch.tensor(15.0))\n",
        "  # sigma_temp = pyro.param('sigma_temp', torch.tensor(2.0), constraint=dist.constraints.positive)\n",
        "  for i in range(obs['sensor'].shape[0]):\n",
        "    temp = pyro.sample(f'temp_{i}', dist.Normal(mean_temp, 2.0))\n",
        "    sensor = pyro.sample(f'sensor_{i}', dist.Normal(temp, 1.0), obs=obs['sensor'][i])"
      ],
      "metadata": {
        "id": "VdX_1vyNQtWS"
      },
      "execution_count": null,
      "outputs": []
    },
    {
      "cell_type": "code",
      "source": [
        "obs2 = {'sensor': 5*torch.rand(10) + 15.0}\n",
        "\n",
        "pyro.render_model(model4, model_args=(obs2, ), render_params=True)"
      ],
      "metadata": {
        "id": "VnAMHciPiC3w"
      },
      "execution_count": null,
      "outputs": []
    },
    {
      "cell_type": "markdown",
      "source": [
        "#### 3.3 Model 3"
      ],
      "metadata": {
        "id": "XCYsuFVOp3sR"
      }
    },
    {
      "cell_type": "code",
      "source": [
        "def model5(obs):\n",
        "  mean_temp = pyro.sample('mean_temp', dist.Normal(15.0, 2.0))\n",
        "  # sigma_temp = pyro.param('sigma_temp', torch.tensor(2.0), constraint=dist.constraints.positive)\n",
        "  for i in range(obs['sensor'].shape[0]):\n",
        "    temp = pyro.sample(f'temp_{i}', dist.Normal(mean_temp, 2.0))\n",
        "    sensor = pyro.sample(f'sensor_{i}', dist.Normal(temp, 1.0), obs=obs['sensor'][i])"
      ],
      "metadata": {
        "id": "KJ3Z-TujkD6-"
      },
      "execution_count": null,
      "outputs": []
    },
    {
      "cell_type": "code",
      "source": [
        "pyro.render_model(model5, model_args=(obs2, ), render_params=True)"
      ],
      "metadata": {
        "id": "e8e0z_Bqkc6D"
      },
      "execution_count": null,
      "outputs": []
    },
    {
      "cell_type": "markdown",
      "source": [
        "#### 3.4 Model 4"
      ],
      "metadata": {
        "id": "gVmMYJI9p6Ur"
      }
    },
    {
      "cell_type": "code",
      "source": [
        "def model6(obs):\n",
        "  mean_temp = pyro.sample('mean_temp', dist.Normal(15.0, 2.0))\n",
        "  # sigma_temp = pyro.param('sigma_temp', torch.tensor(2.0), constraint=dist.constraints.positive)\n",
        "  with pyro.plate(f\"N={obs['sensor'].shape[0]}\", obs['sensor'].shape[0]):\n",
        "    temp = pyro.sample(f'temp', dist.Normal(mean_temp, 2.0))\n",
        "    sensor = pyro.sample(f'sensor', dist.Normal(temp, 1.0), obs=obs['sensor'])"
      ],
      "metadata": {
        "id": "diSSwPK7laUn"
      },
      "execution_count": null,
      "outputs": []
    },
    {
      "cell_type": "code",
      "source": [
        "pyro.render_model(model6, model_args=(obs2, ), render_distributions=True)"
      ],
      "metadata": {
        "id": "Wx-43RSyl47T"
      },
      "execution_count": null,
      "outputs": []
    },
    {
      "cell_type": "markdown",
      "source": [
        "### 4. Icecream Shop"
      ],
      "metadata": {
        "id": "fmDIGp6tpmj8"
      }
    },
    {
      "cell_type": "code",
      "source": [
        "obs3 = {'sensor': 10*torch.rand(10) + 15.0,\n",
        "        'sales': 20*torch.rand(10) + 50.0}\n",
        "\n",
        "# import pandas as pd\n",
        "\n",
        "# pd.DataFrame(obs3)"
      ],
      "metadata": {
        "id": "WZmMqP-lpqH3"
      },
      "execution_count": null,
      "outputs": []
    },
    {
      "cell_type": "code",
      "source": [
        "def model7(obs):\n",
        "  mean_temp = pyro.sample('mean_temp', dist.Normal(15.0, 2.0))\n",
        "  alpha = pyro.sample('alpha', dist.Normal(0, 100.0))\n",
        "  beta = pyro.sample('beta', dist.Normal(0, 100.0))\n",
        "\n",
        "  with pyro.plate(f\"N={obs['sensor'].shape[0]}\", obs['sensor'].shape[0]):\n",
        "    temp = pyro.sample(f'temp', dist.Normal(mean_temp, 2.0))\n",
        "    sensor = pyro.sample(f'sensor', dist.Normal(temp, 1.0), obs=obs['sensor'])\n",
        "    rate = torch.maximum(torch.tensor(1e-3), alpha + beta * temp)\n",
        "    sales = pyro.sample(f'sales', dist.Poisson(rate), obs=obs['sales'])"
      ],
      "metadata": {
        "id": "57v2DOWiw_I_"
      },
      "execution_count": null,
      "outputs": []
    },
    {
      "cell_type": "code",
      "source": [
        "pyro.render_model(model7, model_args=(obs3, ), render_distributions=True)"
      ],
      "metadata": {
        "id": "fraI-0vxxzfL"
      },
      "execution_count": null,
      "outputs": []
    },
    {
      "cell_type": "code",
      "source": [
        "obs4 = {'sensor': 10*torch.rand(100) + 15.0,\n",
        "        'sales': 20*torch.rand(100) + 50.0,\n",
        "        'sensor_humidity': 40*torch.rand(100) + 60.0}"
      ],
      "metadata": {
        "id": "ZaU0Zhyp0A07"
      },
      "execution_count": null,
      "outputs": []
    },
    {
      "cell_type": "code",
      "source": [
        "def model8(obs):\n",
        "  mean_temp = pyro.sample('mean_temp', dist.Normal(15.0, 2.0))\n",
        "  mean_humidity = pyro.sample('mean_humidity', dist.Normal(80.0, 10.0))\n",
        "  alpha = pyro.sample('alpha', dist.Normal(0, 100.0))\n",
        "  beta = pyro.sample('beta', dist.Normal(0, 100.0))\n",
        "  gamma = pyro.sample('gamma', dist.Normal(0, 100.0))\n",
        "\n",
        "  with pyro.plate(f\"N={obs['sensor'].shape[0]}\", obs['sensor'].shape[0]):\n",
        "    temp = pyro.sample(f'temp', dist.Normal(mean_temp, 2.0))\n",
        "    sensor = pyro.sample(f'sensor', dist.Normal(temp, 1.0), obs=obs['sensor'])\n",
        "    humidity = pyro.sample(f'humidity', dist.Normal(mean_humidity, 10.0))\n",
        "    sensor_humidity = pyro.sample(f'sensor_humidity', dist.Normal(humidity, 5.0), obs=obs['sensor_humidity'])\n",
        "    rate = torch.maximum(torch.tensor(1e-3), alpha + beta * temp + gamma * humidity)\n",
        "    sales = pyro.sample(f'sales', dist.Poisson(rate), obs=obs['sales'])"
      ],
      "metadata": {
        "id": "m1Zl0EsN0N1D"
      },
      "execution_count": null,
      "outputs": []
    },
    {
      "cell_type": "code",
      "source": [
        "pyro.render_model(model8, model_args=(obs4, ), render_distributions=True)"
      ],
      "metadata": {
        "id": "gX6JYRKc0pfn"
      },
      "execution_count": null,
      "outputs": []
    },
    {
      "cell_type": "markdown",
      "source": [
        "#### 5. Simple ELBO"
      ],
      "metadata": {
        "id": "ufWM94lYXisP"
      }
    },
    {
      "cell_type": "code",
      "source": [
        "import torch\n",
        "\n",
        "torch.manual_seed(42)\n",
        "\n",
        "# Observed data\n",
        "x_obs = torch.tensor(2.0)\n",
        "\n",
        "# Prior: p(z) = N(0, 1)\n",
        "def log_prior(z):\n",
        "    return -0.5 * (z**2 + torch.log( torch.tensor(2 * torch.pi) ))\n",
        "\n",
        "# Likelihood: p(x | z) = N(x; z, 0.5^2)\n",
        "def log_likelihood(x, z):\n",
        "    return -0.5 * (torch.log( torch.tensor(2 * torch.pi * 0.25) ) + ((x - z)**2) / 0.25)\n",
        "\n",
        "# Entropy of Gaussian q(z) = N(mu, sigma^2)\n",
        "def gaussian_entropy(sigma):\n",
        "    return 0.5 * torch.log( torch.tensor(2 * torch.pi * torch.e * sigma**2) )\n",
        "\n",
        "# Variational parameters\n",
        "mu = torch.tensor(2.0)\n",
        "sigma = torch.tensor(0.5)\n",
        "\n",
        "# Sample from q(z)\n",
        "num_samples = 5\n",
        "q_samples = torch.normal(mean=mu, std=sigma, size=(num_samples,))\n",
        "\n",
        "# Compute log joint: log p(x | z) + log p(z)\n",
        "log_p_x_given_z = log_likelihood(x_obs, q_samples)\n",
        "log_p_z = log_prior(q_samples)\n",
        "log_joint = log_p_x_given_z + log_p_z\n",
        "\n",
        "# Entropy term\n",
        "entropy_q = gaussian_entropy(sigma.item())\n",
        "\n",
        "# ELBO estimate\n",
        "elbo = torch.mean(log_joint) + entropy_q\n",
        "print(f\"Estimated ELBO: {elbo.item():.6f}\")"
      ],
      "metadata": {
        "colab": {
          "base_uri": "https://localhost:8080/"
        },
        "id": "XK0GA98UXmwz",
        "outputId": "2892222d-b3ed-45c5-c62a-252fef6fe5ff"
      },
      "execution_count": 1,
      "outputs": [
        {
          "output_type": "stream",
          "name": "stdout",
          "text": [
            "Estimated ELBO: -2.567774\n"
          ]
        }
      ]
    }
  ]
}