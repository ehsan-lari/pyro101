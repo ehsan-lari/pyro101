{
  "nbformat": 4,
  "nbformat_minor": 0,
  "metadata": {
    "colab": {
      "provenance": [],
      "authorship_tag": "ABX9TyOkabJ9oyPCO50nbeJbKq5h",
      "include_colab_link": true
    },
    "kernelspec": {
      "name": "python3",
      "display_name": "Python 3"
    },
    "language_info": {
      "name": "python"
    }
  },
  "cells": [
    {
      "cell_type": "markdown",
      "metadata": {
        "id": "view-in-github",
        "colab_type": "text"
      },
      "source": [
        "<a href=\"https://colab.research.google.com/github/ehsan-lari/pyro101/blob/main/pyro_00.ipynb\" target=\"_parent\"><img src=\"https://colab.research.google.com/assets/colab-badge.svg\" alt=\"Open In Colab\"/></a>"
      ]
    },
    {
      "cell_type": "markdown",
      "source": [
        "### 0. Setup"
      ],
      "metadata": {
        "id": "-OZ6nrtyEbuX"
      }
    },
    {
      "cell_type": "code",
      "source": [
        "!pip install -q pyro-ppl"
      ],
      "metadata": {
        "id": "jGzprTsLCMQW"
      },
      "execution_count": null,
      "outputs": []
    },
    {
      "cell_type": "code",
      "source": [
        "import pyro\n",
        "import pyro.distributions as dist\n",
        "\n",
        "import torch"
      ],
      "metadata": {
        "id": "oQiEX7ARCNug"
      },
      "execution_count": null,
      "outputs": []
    },
    {
      "cell_type": "code",
      "source": [
        "normal = dist.Normal(\n",
        "    torch.tensor([0.0, 1.0, 2.0]),\n",
        "    1.0)"
      ],
      "metadata": {
        "id": "k--NA5PnC8WZ"
      },
      "execution_count": null,
      "outputs": []
    },
    {
      "cell_type": "code",
      "source": [
        "# torch.manual_seed(42)\n",
        "\n",
        "normal.sample()"
      ],
      "metadata": {
        "id": "i5vzeBclDS7t"
      },
      "execution_count": null,
      "outputs": []
    },
    {
      "cell_type": "code",
      "source": [
        "normal2 = dist.Normal(0, 1)"
      ],
      "metadata": {
        "id": "NLDp87HmDomh"
      },
      "execution_count": null,
      "outputs": []
    },
    {
      "cell_type": "code",
      "source": [
        "normal2.sample((1, 3, 2))"
      ],
      "metadata": {
        "id": "OsAjXDZJDwKV"
      },
      "execution_count": null,
      "outputs": []
    },
    {
      "cell_type": "markdown",
      "source": [
        "### 1. Introducing Models 1.0"
      ],
      "metadata": {
        "id": "SkMMpmNfES-t"
      }
    },
    {
      "cell_type": "code",
      "source": [
        "def model(mu = 15.0, sigma = 2.0):\n",
        "  temp = pyro.sample('temp', dist.Normal(mu, sigma))\n",
        "  return temp\n",
        "\n",
        "print(model())"
      ],
      "metadata": {
        "id": "dTS9nEMdEAc_"
      },
      "execution_count": null,
      "outputs": []
    },
    {
      "cell_type": "code",
      "source": [
        "pyro.render_model(model, render_distributions=True)"
      ],
      "metadata": {
        "collapsed": true,
        "id": "d3gGjEDoKoto"
      },
      "execution_count": null,
      "outputs": []
    },
    {
      "cell_type": "code",
      "source": [
        "def model2(mu = 15.0, sigma = 2.0):\n",
        "  temp = pyro.sample('temp', dist.Normal(mu, sigma))\n",
        "  sensor = pyro.sample('sensor', dist.Normal(temp, 1.0))\n",
        "  return (temp, sensor)\n",
        "\n",
        "print(model2())"
      ],
      "metadata": {
        "id": "7QCvZ2m4K9Un"
      },
      "execution_count": null,
      "outputs": []
    },
    {
      "cell_type": "code",
      "source": [
        "pyro.render_model(model2, render_distributions=True)"
      ],
      "metadata": {
        "id": "bJhJsB8mLS5p"
      },
      "execution_count": null,
      "outputs": []
    },
    {
      "cell_type": "code",
      "source": [],
      "metadata": {
        "id": "wwr1WASyLW20"
      },
      "execution_count": null,
      "outputs": []
    }
  ]
}